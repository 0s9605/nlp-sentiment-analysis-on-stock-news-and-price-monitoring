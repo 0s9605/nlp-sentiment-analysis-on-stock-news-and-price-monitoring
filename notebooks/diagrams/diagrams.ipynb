{
  "nbformat": 4,
  "nbformat_minor": 0,
  "metadata": {
    "colab": {
      "name": "Untitled5.ipynb",
      "provenance": [],
      "collapsed_sections": []
    },
    "kernelspec": {
      "name": "python3",
      "display_name": "Python 3"
    },
    "language_info": {
      "name": "python"
    }
  },
  "cells": [
    {
      "cell_type": "code",
      "execution_count": 32,
      "metadata": {
        "id": "dU-pZZrM2kG4"
      },
      "outputs": [],
      "source": [
        "from diagrams import Cluster, Diagram\n",
        "from diagrams.aws.compute import EC2ContainerRegistry, ECR\n",
        "from diagrams.aws.compute import LambdaFunction\n",
        "from diagrams.aws.mobile import APIGateway\n",
        "from diagrams.aws.management import Cloudwatch\n",
        "from diagrams.custom import Custom\n",
        "from diagrams.gcp.analytics import Bigquery, BigQuery\n",
        "from diagrams.gcp.devtools import ToolsForVisualStudio\n",
        "from diagrams.gcp.storage import Storage, GCS \n",
        "\n",
        "with Diagram(\"Data Architecture\", show=False):\n",
        "\n",
        "    streamlit = Custom(\"Streamlit\", \"/content/streamlit.png\")\n",
        "    airflow =  Custom(\"Apache Airlfow\", \"/content/airflow.png\")\n",
        "    newsapi = Custom(\"News Api\", \"/content/newsapi.jpg\")\n",
        "    web = Custom(\"News Scrapping Python\", \"/content/python.png\")\n",
        "    user = Custom(\"User\", \"/content/user.png\")\n",
        "    gcpfile = Storage(\"GCP Storage\")\n",
        "    \n",
        "    with Cluster(\"News Summarization\"):\n",
        "        docker1 = Custom(\"Docker\", \"/content/docker.png\") \n",
        "        ecr1 = ECR(\"Amazon ECR\") \n",
        "        lamnda1 = LambdaFunction(\"Amazon Lambda\") \n",
        "        api1= APIGateway(\"Amazon API Gateway\") \n",
        "        cloudwatch1= Cloudwatch(\"Amazon CloudWatch\")\n",
        "\n",
        "        lamnda1 >> cloudwatch1\n",
        "        docker1>>ecr1 >> lamnda1 >> api1\n",
        "\n",
        "    with Cluster(\"News Sentiment\"):\n",
        "        docker2 = Custom(\"Docker\", \"/content/docker.png\")\n",
        "        ecr2 = ECR(\"Amazon ECR\")\n",
        "        lamnda2 = LambdaFunction(\"Amazon Lambda\")\n",
        "        api2= APIGateway(\"Amazon API Gateway\")\n",
        "        cloudwatch2= Cloudwatch(\"Amazon CloudWatch\")\n",
        "\n",
        "        lamnda2 >> cloudwatch2\n",
        "        docker2>>ecr2 >> lamnda2 >> api2\n",
        "\n",
        "    with Cluster(\"Stock Price Analysis\"):\n",
        "        yf = Custom(\"Yahoo Finance\", \"/content/yahoofinance.png\")\n",
        "        fastApi = Custom(\"Fast API\", \"/content/fastapi.png\")\n",
        "        bigQ = BigQuery(\"GCP BigQuery\")\n",
        "        ds= ToolsForVisualStudio(\"Data Studio\")\n",
        "\n",
        "        yf >> fastApi >> bigQ >> ds\n",
        "\n",
        "    newsapi >> web >> airflow\n",
        "    airflow >> gcpfile >>streamlit\n",
        "    streamlit >> user\n",
        "    user >> streamlit\n",
        "    fastApi>> streamlit  \n",
        "    lamnda2 >> airflow\n",
        "    lamnda1 >> airflow\n",
        "\n",
        "\n",
        "\n",
        "\n",
        "\n"
      ]
    }
  ]
}