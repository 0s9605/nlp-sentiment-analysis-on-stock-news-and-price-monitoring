{
  "nbformat": 4,
  "nbformat_minor": 0,
  "metadata": {
    "colab": {
      "name": "Sentiment-Analysis",
      "provenance": []
    },
    "kernelspec": {
      "name": "python3",
      "display_name": "Python 3"
    },
    "language_info": {
      "name": "python"
    }
  },
  "cells": [
    {
      "cell_type": "code",
      "execution_count": 1,
      "metadata": {
        "colab": {
          "base_uri": "https://localhost:8080/"
        },
        "id": "ukBtHEDWOMrm",
        "outputId": "5ee5c72a-446e-4dad-c8b7-423bd86fd3d8"
      },
      "outputs": [
        {
          "output_type": "stream",
          "name": "stdout",
          "text": [
            "Requirement already satisfied: transformers in /usr/local/lib/python3.7/dist-packages (4.18.0)\n",
            "Requirement already satisfied: packaging>=20.0 in /usr/local/lib/python3.7/dist-packages (from transformers) (21.3)\n",
            "Requirement already satisfied: requests in /usr/local/lib/python3.7/dist-packages (from transformers) (2.23.0)\n",
            "Requirement already satisfied: huggingface-hub<1.0,>=0.1.0 in /usr/local/lib/python3.7/dist-packages (from transformers) (0.5.1)\n",
            "Requirement already satisfied: regex!=2019.12.17 in /usr/local/lib/python3.7/dist-packages (from transformers) (2019.12.20)\n",
            "Requirement already satisfied: tokenizers!=0.11.3,<0.13,>=0.11.1 in /usr/local/lib/python3.7/dist-packages (from transformers) (0.12.1)\n",
            "Requirement already satisfied: filelock in /usr/local/lib/python3.7/dist-packages (from transformers) (3.6.0)\n",
            "Requirement already satisfied: sacremoses in /usr/local/lib/python3.7/dist-packages (from transformers) (0.0.49)\n",
            "Requirement already satisfied: numpy>=1.17 in /usr/local/lib/python3.7/dist-packages (from transformers) (1.21.6)\n",
            "Requirement already satisfied: importlib-metadata in /usr/local/lib/python3.7/dist-packages (from transformers) (4.11.3)\n",
            "Requirement already satisfied: tqdm>=4.27 in /usr/local/lib/python3.7/dist-packages (from transformers) (4.64.0)\n",
            "Requirement already satisfied: pyyaml>=5.1 in /usr/local/lib/python3.7/dist-packages (from transformers) (6.0)\n",
            "Requirement already satisfied: typing-extensions>=3.7.4.3 in /usr/local/lib/python3.7/dist-packages (from huggingface-hub<1.0,>=0.1.0->transformers) (4.1.1)\n",
            "Requirement already satisfied: pyparsing!=3.0.5,>=2.0.2 in /usr/local/lib/python3.7/dist-packages (from packaging>=20.0->transformers) (3.0.8)\n",
            "Requirement already satisfied: zipp>=0.5 in /usr/local/lib/python3.7/dist-packages (from importlib-metadata->transformers) (3.8.0)\n",
            "Requirement already satisfied: idna<3,>=2.5 in /usr/local/lib/python3.7/dist-packages (from requests->transformers) (2.10)\n",
            "Requirement already satisfied: certifi>=2017.4.17 in /usr/local/lib/python3.7/dist-packages (from requests->transformers) (2021.10.8)\n",
            "Requirement already satisfied: urllib3!=1.25.0,!=1.25.1,<1.26,>=1.21.1 in /usr/local/lib/python3.7/dist-packages (from requests->transformers) (1.24.3)\n",
            "Requirement already satisfied: chardet<4,>=3.0.2 in /usr/local/lib/python3.7/dist-packages (from requests->transformers) (3.0.4)\n",
            "Requirement already satisfied: click in /usr/local/lib/python3.7/dist-packages (from sacremoses->transformers) (7.1.2)\n",
            "Requirement already satisfied: six in /usr/local/lib/python3.7/dist-packages (from sacremoses->transformers) (1.15.0)\n",
            "Requirement already satisfied: joblib in /usr/local/lib/python3.7/dist-packages (from sacremoses->transformers) (1.1.0)\n"
          ]
        }
      ],
      "source": [
        "pip install transformers"
      ]
    },
    {
      "cell_type": "markdown",
      "source": [
        "Initializing a pipeline for sentiment analysis. Using classifier to analyse the sentiment"
      ],
      "metadata": {
        "id": "SV7xKkW9PzAA"
      }
    },
    {
      "cell_type": "code",
      "source": [
        "% pip install sentencepiece"
      ],
      "metadata": {
        "colab": {
          "base_uri": "https://localhost:8080/"
        },
        "id": "e-RmRZ-ZqX0O",
        "outputId": "ccec971d-aa26-45d0-f3f4-11d4a01b614f"
      },
      "execution_count": 2,
      "outputs": [
        {
          "output_type": "stream",
          "name": "stdout",
          "text": [
            "Requirement already satisfied: sentencepiece in /usr/local/lib/python3.7/dist-packages (0.1.96)\n"
          ]
        }
      ]
    },
    {
      "cell_type": "code",
      "source": [
        "from transformers import pipeline\n",
        "from transformers import T5ForConditionalGeneration, T5Tokenizer\n",
        "\n",
        "model = T5ForConditionalGeneration.from_pretrained(\"t5-base\")\n",
        "tokenizer = T5Tokenizer.from_pretrained(\"t5-base\")\n",
        "sa = pipeline(\"sentiment-analysis\")"
      ],
      "metadata": {
        "colab": {
          "base_uri": "https://localhost:8080/"
        },
        "id": "aEjvuppDORBh",
        "outputId": "55b9ede3-bd42-4a6c-841e-953885bb8a65"
      },
      "execution_count": 4,
      "outputs": [
        {
          "output_type": "stream",
          "name": "stderr",
          "text": [
            "No model was supplied, defaulted to distilbert-base-uncased-finetuned-sst-2-english (https://huggingface.co/distilbert-base-uncased-finetuned-sst-2-english)\n"
          ]
        }
      ]
    },
    {
      "cell_type": "markdown",
      "source": [
        "By default this download's the model named \"distilbert-base-uncased-finetuned-sst-2-english\" "
      ],
      "metadata": {
        "id": "OnkiNPOTRtlJ"
      }
    },
    {
      "cell_type": "code",
      "source": [
        "def summary(input_news_article):\n",
        "  news_input = tokenizer.encode(\"summarize: \" + input_news_article, return_tensors=\"pt\", max_length=150, truncation=True)\n",
        "  \n",
        "  # generate the summarization episode output\n",
        "  news_output = model.generate(\n",
        "      news_input, \n",
        "      max_length=150, \n",
        "      min_length=40, \n",
        "      length_penalty=2.0, \n",
        "      num_beams=4, \n",
        "      early_stopping=True)\n",
        "  # just for debugging\n",
        "  news_summary = tokenizer.decode(news_output[0])\n",
        "  print(f\"Episode Summary: {news_summary}\")\n",
        "        \n",
        "  return news_summary"
      ],
      "metadata": {
        "id": "I0MqqGe-op-3"
      },
      "execution_count": 5,
      "outputs": []
    },
    {
      "cell_type": "code",
      "source": [
        "negative_news = \"U.S. stocks declined Monday following global equities lower, as concerns over an escalating COVID outbreak in China added to jitters over U.S. economic growth in the face of heightened inflation and monetary policy tightening. The S&P 500 fell by nearly 1% just after the opening bell as the index looked to add to last week's losses. The Dow and Nasdaq each also dropped. U.S. Treasury yields dipped, and the benchmark 10-year yield hovered just above 2.8%. West Texas intermediate crude oil futures fell more than 4% to trade below $98 per barrel, with fears over the economic impact of broadening virus-related restrictions throughout China mounting. Beijing saw a spike in COVID cases over the weekend that prompted more mandatory testing and some lockdowns in the region. And this came as other populous cities including Shanghai have also recently grappled with fresh waves of infections, even as the country works to abolish the virus under a zero-COVID policy.\""
      ],
      "metadata": {
        "id": "lJjbtEHVrJ1K"
      },
      "execution_count": 11,
      "outputs": []
    },
    {
      "cell_type": "code",
      "source": [
        "sum_news = summary(negative_news)"
      ],
      "metadata": {
        "colab": {
          "base_uri": "https://localhost:8080/"
        },
        "id": "6mYPupKRrOLG",
        "outputId": "5e264ea6-1808-4d09-d31d-be91ffd7a7a0"
      },
      "execution_count": 12,
      "outputs": [
        {
          "output_type": "stream",
          "name": "stdout",
          "text": [
            "Episode Summary: <pad> the S&P 500 fell by nearly 1% just after the opening bell as the index looked to add to last week's losses. the benchmark 10-year yield hovered just above 2.8%. west Texas intermediate crude oil futures fell more than 4% to trade below $98 per barrel.</s>\n"
          ]
        }
      ]
    },
    {
      "cell_type": "code",
      "source": [
        "print(sum_news)"
      ],
      "metadata": {
        "colab": {
          "base_uri": "https://localhost:8080/"
        },
        "id": "2hSmrbQGrTLK",
        "outputId": "09019452-a4aa-4199-a99b-8580e5676d62"
      },
      "execution_count": 13,
      "outputs": [
        {
          "output_type": "stream",
          "name": "stdout",
          "text": [
            "<pad> the S&P 500 fell by nearly 1% just after the opening bell as the index looked to add to last week's losses. the benchmark 10-year yield hovered just above 2.8%. west Texas intermediate crude oil futures fell more than 4% to trade below $98 per barrel.</s>\n"
          ]
        }
      ]
    },
    {
      "cell_type": "code",
      "source": [
        "def SA(input_news_summary):\n",
        "  sentiment = sa(input_news_summary)\n",
        "  return sentiment"
      ],
      "metadata": {
        "id": "f1chDUxtmvt6"
      },
      "execution_count": 14,
      "outputs": []
    },
    {
      "cell_type": "code",
      "source": [
        "print(f'Sentiment Analysis for stock news is: {SA(sum_news)}')"
      ],
      "metadata": {
        "colab": {
          "base_uri": "https://localhost:8080/"
        },
        "id": "Pg5ChVvankD6",
        "outputId": "42058e1a-d6ba-4d98-d738-f6ebb001d678"
      },
      "execution_count": 15,
      "outputs": [
        {
          "output_type": "stream",
          "name": "stdout",
          "text": [
            "Sentiment Analysis for stock news is: [{'label': 'NEGATIVE', 'score': 0.9994134902954102}]\n"
          ]
        }
      ]
    },
    {
      "cell_type": "code",
      "source": [
        "positive_news = \"Tesla stock jumped 3.2% after the electric-vehicle maker earned $3.22 per share from $18.8 billion in sales in the first quarter of the year. The record results firmly outpaced Wall Street’s expectations of EPS in the range of $2.20 to $2.30.\""
      ],
      "metadata": {
        "id": "Ml-OpqmVnu9t"
      },
      "execution_count": 20,
      "outputs": []
    },
    {
      "cell_type": "code",
      "source": [
        "sum_news = summary(positive_news)\n",
        "print(f'Sentiment Analysis for stock news is: {SA(sum_news)}')"
      ],
      "metadata": {
        "colab": {
          "base_uri": "https://localhost:8080/"
        },
        "id": "AHfxzSXZn_8x",
        "outputId": "a4685145-ebec-4a1b-c9c7-e0e0d3f1c90d"
      },
      "execution_count": 21,
      "outputs": [
        {
          "output_type": "stream",
          "name": "stdout",
          "text": [
            "Episode Summary: <pad> the electric-vehicle maker earned $3.22 per share from $18.8 billion in sales in the first quarter of the year. the record results firmly outpaced Wall Street’s expectations of EPS in the range of $2.20 to $2.30.</s>\n",
            "Sentiment Analysis for stock news is: [{'label': 'POSITIVE', 'score': 0.9983256459236145}]\n"
          ]
        }
      ]
    },
    {
      "cell_type": "markdown",
      "source": [
        "Trying classifier on a list of sentences"
      ],
      "metadata": {
        "id": "FnAqrO6gQJ3S"
      }
    },
    {
      "cell_type": "code",
      "source": [
        "results = sa([\"We are very happy to show you the 🤗 Transformers library.\",\n",
        "           \"We hope you don't hate it.\"])\n",
        "for result in results:\n",
        "    print(f\"label: {result['label']}, with score: {round(result['score'], 4)}\")"
      ],
      "metadata": {
        "colab": {
          "base_uri": "https://localhost:8080/"
        },
        "id": "POyGcxDbQAIC",
        "outputId": "e288736a-9d40-4c9d-f48f-b775a4973fdb"
      },
      "execution_count": 22,
      "outputs": [
        {
          "output_type": "stream",
          "name": "stdout",
          "text": [
            "label: POSITIVE, with score: 0.9998\n",
            "label: NEGATIVE, with score: 0.5309\n"
          ]
        }
      ]
    },
    {
      "cell_type": "markdown",
      "source": [
        "Using classifier on our input text/texts we receive a list defining the label assigned by the model and the confidence score with which it classifies "
      ],
      "metadata": {
        "id": "anBaJW98RVB3"
      }
    },
    {
      "cell_type": "code",
      "source": [
        ""
      ],
      "metadata": {
        "id": "QMpp3_aykY1a"
      },
      "execution_count": null,
      "outputs": []
    }
  ]
}